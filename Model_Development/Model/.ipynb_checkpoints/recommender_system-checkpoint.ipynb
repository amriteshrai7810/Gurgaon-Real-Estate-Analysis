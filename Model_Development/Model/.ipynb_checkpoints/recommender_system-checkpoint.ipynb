{
 "cells": [
  {
   "cell_type": "code",
   "execution_count": 1,
   "id": "da0c4b47",
   "metadata": {},
   "outputs": [],
   "source": [
    "import numpy as np\n",
    "import pandas as pd\n",
    "import re\n",
    "from sklearn.feature_extraction.text import TfidfVectorizer\n",
    "from sklearn.metrics.pairwise import cosine_similarity"
   ]
  },
  {
   "cell_type": "code",
   "execution_count": 2,
   "id": "4b25e3a0",
   "metadata": {},
   "outputs": [],
   "source": [
    "df = pd.read_csv('../Data_Scraping/Data/Gurgaon/Societies/society.csv')"
   ]
  },
  {
   "cell_type": "code",
   "execution_count": 4,
   "id": "2a6c83b3",
   "metadata": {},
   "outputs": [
    {
     "data": {
      "text/plain": [
       "(247, 7)"
      ]
     },
     "execution_count": 4,
     "metadata": {},
     "output_type": "execute_result"
    }
   ],
   "source": [
    "df.shape"
   ]
  },
  {
   "cell_type": "code",
   "execution_count": 5,
   "id": "d2c8a660",
   "metadata": {},
   "outputs": [
    {
     "data": {
      "text/html": [
       "<div>\n",
       "<style scoped>\n",
       "    .dataframe tbody tr th:only-of-type {\n",
       "        vertical-align: middle;\n",
       "    }\n",
       "\n",
       "    .dataframe tbody tr th {\n",
       "        vertical-align: top;\n",
       "    }\n",
       "\n",
       "    .dataframe thead th {\n",
       "        text-align: right;\n",
       "    }\n",
       "</style>\n",
       "<table border=\"1\" class=\"dataframe\">\n",
       "  <thead>\n",
       "    <tr style=\"text-align: right;\">\n",
       "      <th></th>\n",
       "      <th>PropertyName</th>\n",
       "      <th>PropertySubName</th>\n",
       "      <th>NearbyLocations</th>\n",
       "      <th>LocationAdvantages</th>\n",
       "      <th>Link</th>\n",
       "      <th>PriceDetails</th>\n",
       "      <th>TopFacilities</th>\n",
       "    </tr>\n",
       "  </thead>\n",
       "  <tbody>\n",
       "    <tr>\n",
       "      <th>125</th>\n",
       "      <td>Vatika Seven Elements</td>\n",
       "      <td>2, 3, 4 BHK Apartment in Sector 89 A, Gurgaon</td>\n",
       "      <td>['Pataudi Road', 'Dwarka Expy', 'Newtown Squar...</td>\n",
       "      <td>{'Pataudi Road': '400 Meter', 'Dwarka Expy': '...</td>\n",
       "      <td>https://www.99acres.com/vatika-seven-elements-...</td>\n",
       "      <td>{'2 BHK': {'building_type': 'Apartment', 'area...</td>\n",
       "      <td>['Valet Parking', 'Food Court', 'Swimming Pool...</td>\n",
       "    </tr>\n",
       "  </tbody>\n",
       "</table>\n",
       "</div>"
      ],
      "text/plain": [
       "              PropertyName                                PropertySubName  \\\n",
       "125  Vatika Seven Elements  2, 3, 4 BHK Apartment in Sector 89 A, Gurgaon   \n",
       "\n",
       "                                       NearbyLocations  \\\n",
       "125  ['Pataudi Road', 'Dwarka Expy', 'Newtown Squar...   \n",
       "\n",
       "                                    LocationAdvantages  \\\n",
       "125  {'Pataudi Road': '400 Meter', 'Dwarka Expy': '...   \n",
       "\n",
       "                                                  Link  \\\n",
       "125  https://www.99acres.com/vatika-seven-elements-...   \n",
       "\n",
       "                                          PriceDetails  \\\n",
       "125  {'2 BHK': {'building_type': 'Apartment', 'area...   \n",
       "\n",
       "                                         TopFacilities  \n",
       "125  ['Valet Parking', 'Food Court', 'Swimming Pool...  "
      ]
     },
     "execution_count": 5,
     "metadata": {},
     "output_type": "execute_result"
    }
   ],
   "source": [
    "df.sample(1)"
   ]
  },
  {
   "cell_type": "code",
   "execution_count": 6,
   "id": "e2256108",
   "metadata": {},
   "outputs": [
    {
     "data": {
      "text/plain": [
       "\"['AIPL Business Club Sector 62', 'Heritage Xperiential Learning School', 'CK Birla Hospital', 'Paras Trinity Mall Sector 63', 'Rapid Metro Station Sector 56']\""
      ]
     },
     "execution_count": 6,
     "metadata": {},
     "output_type": "execute_result"
    }
   ],
   "source": [
    "df.iloc[2].NearbyLocations"
   ]
  },
  {
   "cell_type": "code",
   "execution_count": 7,
   "id": "7a89e1dc",
   "metadata": {},
   "outputs": [
    {
     "data": {
      "text/plain": [
       "\"{'AIPL Business Club Sector 62': '2.7 Km', 'Heritage Xperiential Learning School': '2 Km', 'CK Birla Hospital': '2.5 Km', 'Paras Trinity Mall Sector 63': '3.5 Km', 'Rapid Metro Station Sector 56': '3.8 Km', 'De Adventure Park': '6.8 Km', 'Golf Course Ext Rd': '99 Meter', 'DoubleTree by Hilton Hotel Gurgaon': '3.6 Km', 'KIIT College of Engineering Sohna Road': '8.4 Km', 'Mehrauli-Gurgaon Road': '11.8 Km', 'Indira Gandhi International Airport': '21.1 Km', 'Nirvana Rd': '160 Meter', 'TERI Golf Course': '8.7 Km'}\""
      ]
     },
     "execution_count": 7,
     "metadata": {},
     "output_type": "execute_result"
    }
   ],
   "source": [
    "df.iloc[2].LocationAdvantages"
   ]
  },
  {
   "cell_type": "code",
   "execution_count": 8,
   "id": "e16156cd",
   "metadata": {},
   "outputs": [
    {
     "data": {
      "text/plain": [
       "\"{'3 BHK': {'building_type': 'Apartment', 'area_type': 'Super Built-up Area', 'area': '1,605 - 2,170 sq.ft.', 'price-range': '₹ 2.2 - 3.03 Cr'}, '4 BHK': {'building_type': 'Apartment', 'area_type': 'Super Built-up Area', 'area': '2,248 - 2,670 sq.ft.', 'price-range': '₹ 3.08 - 3.73 Cr'}}\""
      ]
     },
     "execution_count": 8,
     "metadata": {},
     "output_type": "execute_result"
    }
   ],
   "source": [
    "df.iloc[1].PriceDetails"
   ]
  },
  {
   "cell_type": "code",
   "execution_count": 9,
   "id": "9414e34d",
   "metadata": {},
   "outputs": [
    {
     "data": {
      "text/plain": [
       "\"['Swimming Pool', 'Salon', 'Restaurant', 'Spa', 'Cafeteria', 'Sun Deck', '24x7 Security', 'Club House', 'Gated Community']\""
      ]
     },
     "execution_count": 9,
     "metadata": {},
     "output_type": "execute_result"
    }
   ],
   "source": [
    "df[['PropertyName', 'TopFacilities']]['TopFacilities'][0]"
   ]
  },
  {
   "cell_type": "code",
   "execution_count": 10,
   "id": "0613fb09",
   "metadata": {},
   "outputs": [],
   "source": [
    "def extract_list(s):\n",
    "    return re.findall(r\"'(.*?)'\", s)\n",
    "\n",
    "df['TopFacilities'] = df['TopFacilities'].apply(extract_list)"
   ]
  },
  {
   "cell_type": "code",
   "execution_count": 11,
   "id": "2310ea78",
   "metadata": {},
   "outputs": [],
   "source": [
    "df['FacilitiesStr'] = df['TopFacilities'].apply(' '.join)"
   ]
  },
  {
   "cell_type": "code",
   "execution_count": 12,
   "id": "10b1fa19",
   "metadata": {},
   "outputs": [
    {
     "data": {
      "text/plain": [
       "'Swimming Pool Salon Restaurant Spa Cafeteria Sun Deck 24x7 Security Club House Gated Community'"
      ]
     },
     "execution_count": 12,
     "metadata": {},
     "output_type": "execute_result"
    }
   ],
   "source": [
    "df['FacilitiesStr'][0]"
   ]
  },
  {
   "cell_type": "code",
   "execution_count": 13,
   "id": "e8be3e9c",
   "metadata": {},
   "outputs": [],
   "source": [
    "tfidf_vectorizer = TfidfVectorizer(stop_words='english', ngram_range=(1, 2))"
   ]
  },
  {
   "cell_type": "code",
   "execution_count": 14,
   "id": "d611996f",
   "metadata": {},
   "outputs": [],
   "source": [
    "tfidf_matrix = tfidf_vectorizer.fit_transform(df['FacilitiesStr'])"
   ]
  },
  {
   "cell_type": "code",
   "execution_count": 15,
   "id": "65bff020",
   "metadata": {},
   "outputs": [
    {
     "data": {
      "text/plain": [
       "array([0.        , 0.        , 0.        , 0.1881095 , 0.1881095 ,\n",
       "       0.        , 0.        , 0.        , 0.        , 0.        ,\n",
       "       0.        , 0.        , 0.        , 0.        , 0.        ,\n",
       "       0.        , 0.        , 0.        , 0.        , 0.        ,\n",
       "       0.        , 0.        , 0.        , 0.        , 0.        ,\n",
       "       0.        , 0.        , 0.        , 0.        , 0.        ,\n",
       "       0.        , 0.        , 0.        , 0.        , 0.        ,\n",
       "       0.        , 0.        , 0.        , 0.        , 0.        ,\n",
       "       0.        , 0.        , 0.        , 0.        , 0.        ,\n",
       "       0.        , 0.        , 0.        , 0.        , 0.        ,\n",
       "       0.        , 0.        , 0.        , 0.        , 0.        ,\n",
       "       0.        , 0.        , 0.        , 0.        , 0.        ,\n",
       "       0.        , 0.        , 0.        , 0.        , 0.        ,\n",
       "       0.        , 0.        , 0.        , 0.        , 0.        ,\n",
       "       0.        , 0.        , 0.        , 0.        , 0.        ,\n",
       "       0.        , 0.        , 0.        , 0.        , 0.        ,\n",
       "       0.        , 0.        , 0.        , 0.        , 0.        ,\n",
       "       0.        , 0.        , 0.        , 0.        , 0.        ,\n",
       "       0.        , 0.        , 0.        , 0.        , 0.        ,\n",
       "       0.        , 0.        , 0.        , 0.        , 0.        ,\n",
       "       0.        , 0.        , 0.16876798, 0.        , 0.        ,\n",
       "       0.        , 0.        , 0.        , 0.        , 0.        ,\n",
       "       0.27803077, 0.        , 0.        , 0.        , 0.        ,\n",
       "       0.        , 0.        , 0.        , 0.        , 0.        ,\n",
       "       0.        , 0.        , 0.        , 0.        , 0.        ,\n",
       "       0.        , 0.        , 0.        , 0.        , 0.        ,\n",
       "       0.        , 0.        , 0.        , 0.        , 0.        ,\n",
       "       0.        , 0.        , 0.        , 0.        , 0.        ,\n",
       "       0.        , 0.        , 0.        , 0.        , 0.        ,\n",
       "       0.        , 0.        , 0.        , 0.        , 0.        ,\n",
       "       0.        , 0.        , 0.        , 0.        , 0.        ,\n",
       "       0.        , 0.        , 0.        , 0.        , 0.        ,\n",
       "       0.        , 0.        , 0.        , 0.        , 0.        ,\n",
       "       0.        , 0.        , 0.        , 0.        , 0.        ,\n",
       "       0.        , 0.        , 0.        , 0.        , 0.        ,\n",
       "       0.        , 0.        , 0.        , 0.17448139, 0.17448139,\n",
       "       0.15594924, 0.        , 0.        , 0.        , 0.        ,\n",
       "       0.        , 0.        , 0.        , 0.        , 0.        ,\n",
       "       0.        , 0.        , 0.        , 0.        , 0.        ,\n",
       "       0.        , 0.        , 0.        , 0.        , 0.        ,\n",
       "       0.        , 0.        , 0.        , 0.        , 0.        ,\n",
       "       0.        , 0.        , 0.        , 0.        , 0.        ,\n",
       "       0.        , 0.        , 0.        , 0.        , 0.        ,\n",
       "       0.        , 0.        , 0.        , 0.        , 0.        ,\n",
       "       0.        , 0.        , 0.        , 0.        , 0.        ,\n",
       "       0.        , 0.        , 0.        , 0.        , 0.        ,\n",
       "       0.        , 0.        , 0.        , 0.        , 0.        ,\n",
       "       0.        , 0.        , 0.        , 0.        , 0.        ,\n",
       "       0.        , 0.        , 0.        , 0.        , 0.        ,\n",
       "       0.        , 0.        , 0.        , 0.        , 0.        ,\n",
       "       0.        , 0.        , 0.        , 0.        , 0.        ,\n",
       "       0.        , 0.        , 0.        , 0.        , 0.        ,\n",
       "       0.        , 0.        , 0.        , 0.        , 0.        ,\n",
       "       0.        , 0.        , 0.        , 0.        , 0.        ,\n",
       "       0.16359956, 0.293631  , 0.        , 0.        , 0.        ,\n",
       "       0.        , 0.        , 0.        , 0.        , 0.        ,\n",
       "       0.        , 0.        , 0.        , 0.        , 0.        ,\n",
       "       0.        , 0.        , 0.        , 0.        , 0.        ,\n",
       "       0.        , 0.        , 0.        , 0.        , 0.        ,\n",
       "       0.        , 0.        , 0.        , 0.        , 0.        ,\n",
       "       0.        , 0.        , 0.        , 0.        , 0.        ,\n",
       "       0.        , 0.        , 0.        , 0.        , 0.        ,\n",
       "       0.        , 0.        , 0.        , 0.        , 0.        ,\n",
       "       0.        , 0.        , 0.        , 0.        , 0.        ,\n",
       "       0.        , 0.        , 0.        , 0.        , 0.        ,\n",
       "       0.        , 0.        , 0.        , 0.        , 0.        ,\n",
       "       0.        , 0.        , 0.        , 0.        , 0.        ,\n",
       "       0.        , 0.        , 0.        , 0.        , 0.        ,\n",
       "       0.        , 0.        , 0.        , 0.        , 0.        ,\n",
       "       0.        , 0.        , 0.        , 0.        , 0.        ,\n",
       "       0.        , 0.        , 0.        , 0.        , 0.        ,\n",
       "       0.        , 0.        , 0.        , 0.        , 0.        ,\n",
       "       0.        , 0.        , 0.        , 0.        , 0.        ,\n",
       "       0.        , 0.        , 0.        , 0.        , 0.        ,\n",
       "       0.        , 0.        , 0.        , 0.18086845, 0.18086845,\n",
       "       0.        , 0.        , 0.        , 0.        , 0.        ,\n",
       "       0.        , 0.        , 0.        , 0.        , 0.        ,\n",
       "       0.        , 0.        , 0.        , 0.        , 0.        ,\n",
       "       0.        , 0.        , 0.        , 0.        , 0.        ,\n",
       "       0.        , 0.        , 0.        , 0.        , 0.        ,\n",
       "       0.        , 0.        , 0.        , 0.        , 0.        ,\n",
       "       0.        , 0.        , 0.        , 0.        , 0.        ,\n",
       "       0.        , 0.        , 0.        , 0.        , 0.        ,\n",
       "       0.        , 0.        , 0.        , 0.        , 0.        ,\n",
       "       0.        , 0.        , 0.        , 0.        , 0.        ,\n",
       "       0.        , 0.        , 0.        , 0.        , 0.        ,\n",
       "       0.        , 0.        , 0.        , 0.        , 0.        ,\n",
       "       0.17448139, 0.        , 0.24768431, 0.        , 0.        ,\n",
       "       0.        , 0.        , 0.        , 0.        , 0.        ,\n",
       "       0.        , 0.        , 0.        , 0.        , 0.        ,\n",
       "       0.        , 0.        , 0.        , 0.        , 0.        ,\n",
       "       0.        , 0.        , 0.        , 0.        , 0.        ,\n",
       "       0.        , 0.        , 0.        , 0.        , 0.        ,\n",
       "       0.        , 0.        , 0.        , 0.        , 0.        ,\n",
       "       0.        , 0.        , 0.        , 0.        , 0.        ,\n",
       "       0.        , 0.        , 0.        , 0.        , 0.        ,\n",
       "       0.        , 0.        , 0.        , 0.        , 0.        ,\n",
       "       0.        , 0.        , 0.        , 0.        , 0.        ,\n",
       "       0.        , 0.        , 0.        , 0.        , 0.        ,\n",
       "       0.        , 0.        , 0.        , 0.        , 0.        ,\n",
       "       0.        , 0.        , 0.        , 0.        , 0.        ,\n",
       "       0.        , 0.        , 0.        , 0.        , 0.        ,\n",
       "       0.        , 0.        , 0.        , 0.        , 0.        ,\n",
       "       0.        , 0.        , 0.        , 0.        , 0.        ,\n",
       "       0.        , 0.        , 0.        , 0.        , 0.        ,\n",
       "       0.        , 0.        , 0.        , 0.        , 0.        ,\n",
       "       0.        , 0.        , 0.        , 0.        , 0.        ,\n",
       "       0.        , 0.        , 0.        , 0.        , 0.        ,\n",
       "       0.        , 0.        , 0.        , 0.        , 0.        ,\n",
       "       0.        , 0.        , 0.        , 0.        , 0.        ,\n",
       "       0.        , 0.        , 0.        , 0.        , 0.        ,\n",
       "       0.        , 0.        , 0.        , 0.        , 0.        ,\n",
       "       0.        , 0.        , 0.        , 0.        , 0.        ,\n",
       "       0.        , 0.        , 0.        , 0.        , 0.        ,\n",
       "       0.        , 0.        , 0.        , 0.        , 0.        ,\n",
       "       0.        , 0.        , 0.        , 0.        , 0.        ,\n",
       "       0.        , 0.        , 0.        , 0.        , 0.        ,\n",
       "       0.        , 0.        , 0.        , 0.        , 0.        ,\n",
       "       0.        , 0.        , 0.        , 0.        , 0.        ,\n",
       "       0.        , 0.        , 0.        , 0.        , 0.        ,\n",
       "       0.        , 0.        , 0.        , 0.        , 0.        ,\n",
       "       0.        , 0.        , 0.        , 0.        , 0.        ,\n",
       "       0.        , 0.        , 0.        , 0.        , 0.        ,\n",
       "       0.        , 0.        , 0.        , 0.        , 0.        ,\n",
       "       0.        , 0.        , 0.        , 0.        , 0.        ,\n",
       "       0.        , 0.        , 0.        , 0.        , 0.06455322,\n",
       "       0.        , 0.        , 0.        , 0.        , 0.        ,\n",
       "       0.        , 0.        , 0.        , 0.        , 0.        ,\n",
       "       0.        , 0.        , 0.        , 0.        , 0.        ,\n",
       "       0.        , 0.        , 0.        , 0.        , 0.        ,\n",
       "       0.        , 0.        , 0.        , 0.        , 0.        ,\n",
       "       0.        , 0.        , 0.        , 0.        , 0.        ,\n",
       "       0.        , 0.26593029, 0.        , 0.        , 0.        ,\n",
       "       0.        , 0.        , 0.        , 0.        , 0.        ,\n",
       "       0.        , 0.        , 0.        , 0.        , 0.        ,\n",
       "       0.        , 0.        , 0.        , 0.        , 0.        ,\n",
       "       0.        , 0.        , 0.        , 0.        , 0.        ,\n",
       "       0.        , 0.        , 0.        , 0.        , 0.        ,\n",
       "       0.        , 0.        , 0.        , 0.        , 0.        ,\n",
       "       0.12940236, 0.        , 0.        , 0.        , 0.        ,\n",
       "       0.        , 0.        , 0.21009679, 0.        , 0.        ,\n",
       "       0.        , 0.        , 0.        , 0.        , 0.        ,\n",
       "       0.        , 0.        , 0.        , 0.        , 0.        ,\n",
       "       0.        , 0.        , 0.        , 0.        , 0.        ,\n",
       "       0.        , 0.        , 0.        , 0.        , 0.        ,\n",
       "       0.        , 0.        , 0.        , 0.        , 0.        ,\n",
       "       0.        , 0.        , 0.        , 0.        , 0.        ,\n",
       "       0.        , 0.        , 0.        , 0.        , 0.        ,\n",
       "       0.        , 0.        , 0.        , 0.        , 0.        ,\n",
       "       0.        , 0.        , 0.        , 0.        , 0.16526822,\n",
       "       0.        , 0.        , 0.        , 0.        , 0.        ,\n",
       "       0.25604348, 0.        , 0.        , 0.        , 0.        ,\n",
       "       0.        , 0.        , 0.        , 0.        , 0.        ,\n",
       "       0.        , 0.        , 0.        , 0.        , 0.        ,\n",
       "       0.        , 0.        , 0.        , 0.        , 0.        ,\n",
       "       0.        , 0.        , 0.        , 0.        , 0.        ,\n",
       "       0.        , 0.        , 0.        , 0.        , 0.        ,\n",
       "       0.        , 0.        , 0.        , 0.        , 0.15182873,\n",
       "       0.        , 0.        , 0.        , 0.        , 0.        ,\n",
       "       0.21411547, 0.        , 0.        , 0.        , 0.        ,\n",
       "       0.        , 0.        , 0.        , 0.        , 0.        ,\n",
       "       0.        , 0.        , 0.        , 0.        , 0.        ,\n",
       "       0.        , 0.        , 0.        , 0.        , 0.        ,\n",
       "       0.        , 0.        , 0.        , 0.        , 0.        ,\n",
       "       0.        , 0.        , 0.        , 0.        , 0.        ,\n",
       "       0.        , 0.        , 0.        , 0.        , 0.        ,\n",
       "       0.        , 0.        , 0.        , 0.        , 0.        ,\n",
       "       0.        , 0.        , 0.        , 0.        , 0.14924599,\n",
       "       0.293631  , 0.        , 0.        , 0.        , 0.        ,\n",
       "       0.        , 0.        , 0.        , 0.        , 0.        ,\n",
       "       0.        , 0.        , 0.        , 0.        , 0.        ,\n",
       "       0.        , 0.        , 0.        , 0.        , 0.        ,\n",
       "       0.        , 0.        , 0.        , 0.        , 0.        ,\n",
       "       0.        , 0.        , 0.        , 0.        , 0.        ,\n",
       "       0.        , 0.        , 0.16359956, 0.16359956, 0.        ,\n",
       "       0.        , 0.        , 0.06508487, 0.06508487, 0.        ,\n",
       "       0.        , 0.        , 0.        , 0.        , 0.        ,\n",
       "       0.        , 0.        , 0.        , 0.        , 0.        ,\n",
       "       0.        , 0.        , 0.        , 0.        , 0.        ,\n",
       "       0.        , 0.        , 0.        , 0.        , 0.        ,\n",
       "       0.        , 0.        , 0.        , 0.        , 0.        ,\n",
       "       0.        , 0.        , 0.        , 0.        , 0.        ,\n",
       "       0.        , 0.        , 0.        , 0.        , 0.        ,\n",
       "       0.        , 0.        , 0.        , 0.        , 0.        ,\n",
       "       0.        , 0.        , 0.        , 0.        , 0.        ,\n",
       "       0.        , 0.        , 0.        , 0.        , 0.        ,\n",
       "       0.        , 0.        , 0.        , 0.        , 0.        ,\n",
       "       0.        , 0.        , 0.        , 0.        , 0.        ,\n",
       "       0.        , 0.        , 0.        , 0.        , 0.        ,\n",
       "       0.        , 0.        , 0.        , 0.        , 0.        ,\n",
       "       0.        , 0.        , 0.        ])"
      ]
     },
     "execution_count": 15,
     "metadata": {},
     "output_type": "execute_result"
    }
   ],
   "source": [
    "tfidf_matrix.toarray()[0]"
   ]
  },
  {
   "cell_type": "code",
   "execution_count": 16,
   "id": "d6f2c9c9",
   "metadata": {},
   "outputs": [],
   "source": [
    "cosine_sim1 = cosine_similarity(tfidf_matrix, tfidf_matrix)"
   ]
  },
  {
   "cell_type": "code",
   "execution_count": 17,
   "id": "f0b64578",
   "metadata": {},
   "outputs": [],
   "source": [
    "cosine_sim1 = pd.DataFrame(cosine_sim1)"
   ]
  },
  {
   "cell_type": "code",
   "execution_count": 18,
   "id": "42604736",
   "metadata": {},
   "outputs": [
    {
     "data": {
      "text/html": [
       "<div>\n",
       "<style scoped>\n",
       "    .dataframe tbody tr th:only-of-type {\n",
       "        vertical-align: middle;\n",
       "    }\n",
       "\n",
       "    .dataframe tbody tr th {\n",
       "        vertical-align: top;\n",
       "    }\n",
       "\n",
       "    .dataframe thead th {\n",
       "        text-align: right;\n",
       "    }\n",
       "</style>\n",
       "<table border=\"1\" class=\"dataframe\">\n",
       "  <thead>\n",
       "    <tr style=\"text-align: right;\">\n",
       "      <th></th>\n",
       "      <th>0</th>\n",
       "      <th>1</th>\n",
       "      <th>2</th>\n",
       "      <th>3</th>\n",
       "      <th>4</th>\n",
       "      <th>5</th>\n",
       "      <th>6</th>\n",
       "      <th>7</th>\n",
       "      <th>8</th>\n",
       "      <th>9</th>\n",
       "      <th>...</th>\n",
       "      <th>237</th>\n",
       "      <th>238</th>\n",
       "      <th>239</th>\n",
       "      <th>240</th>\n",
       "      <th>241</th>\n",
       "      <th>242</th>\n",
       "      <th>243</th>\n",
       "      <th>244</th>\n",
       "      <th>245</th>\n",
       "      <th>246</th>\n",
       "    </tr>\n",
       "  </thead>\n",
       "  <tbody>\n",
       "    <tr>\n",
       "      <th>0</th>\n",
       "      <td>1.000000</td>\n",
       "      <td>0.011003</td>\n",
       "      <td>0.000000</td>\n",
       "      <td>0.010892</td>\n",
       "      <td>0.036872</td>\n",
       "      <td>0.096109</td>\n",
       "      <td>0.013048</td>\n",
       "      <td>0.117032</td>\n",
       "      <td>0.085912</td>\n",
       "      <td>0.183894</td>\n",
       "      <td>...</td>\n",
       "      <td>0.244485</td>\n",
       "      <td>0.031123</td>\n",
       "      <td>0.027175</td>\n",
       "      <td>0.014947</td>\n",
       "      <td>0.088334</td>\n",
       "      <td>0.035424</td>\n",
       "      <td>0.195297</td>\n",
       "      <td>0.011888</td>\n",
       "      <td>0.086677</td>\n",
       "      <td>0.011124</td>\n",
       "    </tr>\n",
       "    <tr>\n",
       "      <th>1</th>\n",
       "      <td>0.011003</td>\n",
       "      <td>1.000000</td>\n",
       "      <td>0.019855</td>\n",
       "      <td>0.129645</td>\n",
       "      <td>0.159041</td>\n",
       "      <td>0.019323</td>\n",
       "      <td>0.217126</td>\n",
       "      <td>0.008440</td>\n",
       "      <td>0.041371</td>\n",
       "      <td>0.080002</td>\n",
       "      <td>...</td>\n",
       "      <td>0.010039</td>\n",
       "      <td>0.029512</td>\n",
       "      <td>0.028553</td>\n",
       "      <td>0.087772</td>\n",
       "      <td>0.018442</td>\n",
       "      <td>0.009756</td>\n",
       "      <td>0.022372</td>\n",
       "      <td>0.119139</td>\n",
       "      <td>0.015627</td>\n",
       "      <td>0.009684</td>\n",
       "    </tr>\n",
       "    <tr>\n",
       "      <th>2</th>\n",
       "      <td>0.000000</td>\n",
       "      <td>0.019855</td>\n",
       "      <td>1.000000</td>\n",
       "      <td>0.012230</td>\n",
       "      <td>0.010525</td>\n",
       "      <td>0.096805</td>\n",
       "      <td>0.026423</td>\n",
       "      <td>0.104558</td>\n",
       "      <td>0.076642</td>\n",
       "      <td>0.028967</td>\n",
       "      <td>...</td>\n",
       "      <td>0.012949</td>\n",
       "      <td>0.058460</td>\n",
       "      <td>0.014037</td>\n",
       "      <td>0.012622</td>\n",
       "      <td>0.019822</td>\n",
       "      <td>0.057596</td>\n",
       "      <td>0.010714</td>\n",
       "      <td>0.070281</td>\n",
       "      <td>0.038281</td>\n",
       "      <td>0.019641</td>\n",
       "    </tr>\n",
       "    <tr>\n",
       "      <th>3</th>\n",
       "      <td>0.010892</td>\n",
       "      <td>0.129645</td>\n",
       "      <td>0.012230</td>\n",
       "      <td>1.000000</td>\n",
       "      <td>0.010052</td>\n",
       "      <td>0.077405</td>\n",
       "      <td>0.087486</td>\n",
       "      <td>0.063468</td>\n",
       "      <td>0.071565</td>\n",
       "      <td>0.201630</td>\n",
       "      <td>...</td>\n",
       "      <td>0.027011</td>\n",
       "      <td>0.042006</td>\n",
       "      <td>0.166237</td>\n",
       "      <td>0.019403</td>\n",
       "      <td>0.102801</td>\n",
       "      <td>0.036337</td>\n",
       "      <td>0.010689</td>\n",
       "      <td>0.118387</td>\n",
       "      <td>0.086986</td>\n",
       "      <td>0.158206</td>\n",
       "    </tr>\n",
       "    <tr>\n",
       "      <th>4</th>\n",
       "      <td>0.036872</td>\n",
       "      <td>0.159041</td>\n",
       "      <td>0.010525</td>\n",
       "      <td>0.010052</td>\n",
       "      <td>1.000000</td>\n",
       "      <td>0.073609</td>\n",
       "      <td>0.095324</td>\n",
       "      <td>0.008948</td>\n",
       "      <td>0.112626</td>\n",
       "      <td>0.108730</td>\n",
       "      <td>...</td>\n",
       "      <td>0.010643</td>\n",
       "      <td>0.010172</td>\n",
       "      <td>0.131065</td>\n",
       "      <td>0.290720</td>\n",
       "      <td>0.009776</td>\n",
       "      <td>0.065283</td>\n",
       "      <td>0.011859</td>\n",
       "      <td>0.030785</td>\n",
       "      <td>0.016567</td>\n",
       "      <td>0.010266</td>\n",
       "    </tr>\n",
       "    <tr>\n",
       "      <th>...</th>\n",
       "      <td>...</td>\n",
       "      <td>...</td>\n",
       "      <td>...</td>\n",
       "      <td>...</td>\n",
       "      <td>...</td>\n",
       "      <td>...</td>\n",
       "      <td>...</td>\n",
       "      <td>...</td>\n",
       "      <td>...</td>\n",
       "      <td>...</td>\n",
       "      <td>...</td>\n",
       "      <td>...</td>\n",
       "      <td>...</td>\n",
       "      <td>...</td>\n",
       "      <td>...</td>\n",
       "      <td>...</td>\n",
       "      <td>...</td>\n",
       "      <td>...</td>\n",
       "      <td>...</td>\n",
       "      <td>...</td>\n",
       "      <td>...</td>\n",
       "    </tr>\n",
       "    <tr>\n",
       "      <th>242</th>\n",
       "      <td>0.035424</td>\n",
       "      <td>0.009756</td>\n",
       "      <td>0.057596</td>\n",
       "      <td>0.036337</td>\n",
       "      <td>0.065283</td>\n",
       "      <td>0.000000</td>\n",
       "      <td>0.084938</td>\n",
       "      <td>0.075875</td>\n",
       "      <td>0.010360</td>\n",
       "      <td>0.058313</td>\n",
       "      <td>...</td>\n",
       "      <td>0.075770</td>\n",
       "      <td>0.094456</td>\n",
       "      <td>0.032017</td>\n",
       "      <td>0.051370</td>\n",
       "      <td>0.059543</td>\n",
       "      <td>1.000000</td>\n",
       "      <td>0.060398</td>\n",
       "      <td>0.035031</td>\n",
       "      <td>0.074889</td>\n",
       "      <td>0.086383</td>\n",
       "    </tr>\n",
       "    <tr>\n",
       "      <th>243</th>\n",
       "      <td>0.195297</td>\n",
       "      <td>0.022372</td>\n",
       "      <td>0.010714</td>\n",
       "      <td>0.010689</td>\n",
       "      <td>0.011859</td>\n",
       "      <td>0.000000</td>\n",
       "      <td>0.013265</td>\n",
       "      <td>0.153088</td>\n",
       "      <td>0.011879</td>\n",
       "      <td>0.023385</td>\n",
       "      <td>...</td>\n",
       "      <td>0.298856</td>\n",
       "      <td>0.018884</td>\n",
       "      <td>0.011471</td>\n",
       "      <td>0.000000</td>\n",
       "      <td>0.534106</td>\n",
       "      <td>0.060398</td>\n",
       "      <td>1.000000</td>\n",
       "      <td>0.000000</td>\n",
       "      <td>0.000000</td>\n",
       "      <td>0.010917</td>\n",
       "    </tr>\n",
       "    <tr>\n",
       "      <th>244</th>\n",
       "      <td>0.011888</td>\n",
       "      <td>0.119139</td>\n",
       "      <td>0.070281</td>\n",
       "      <td>0.118387</td>\n",
       "      <td>0.030785</td>\n",
       "      <td>0.000000</td>\n",
       "      <td>0.178157</td>\n",
       "      <td>0.028049</td>\n",
       "      <td>0.120766</td>\n",
       "      <td>0.094061</td>\n",
       "      <td>...</td>\n",
       "      <td>0.018150</td>\n",
       "      <td>0.165701</td>\n",
       "      <td>0.050704</td>\n",
       "      <td>0.185318</td>\n",
       "      <td>0.006199</td>\n",
       "      <td>0.035031</td>\n",
       "      <td>0.000000</td>\n",
       "      <td>1.000000</td>\n",
       "      <td>0.098420</td>\n",
       "      <td>0.032618</td>\n",
       "    </tr>\n",
       "    <tr>\n",
       "      <th>245</th>\n",
       "      <td>0.086677</td>\n",
       "      <td>0.015627</td>\n",
       "      <td>0.038281</td>\n",
       "      <td>0.086986</td>\n",
       "      <td>0.016567</td>\n",
       "      <td>0.045070</td>\n",
       "      <td>0.033571</td>\n",
       "      <td>0.013771</td>\n",
       "      <td>0.080129</td>\n",
       "      <td>0.149823</td>\n",
       "      <td>...</td>\n",
       "      <td>0.074179</td>\n",
       "      <td>0.261743</td>\n",
       "      <td>0.065871</td>\n",
       "      <td>0.038439</td>\n",
       "      <td>0.067542</td>\n",
       "      <td>0.074889</td>\n",
       "      <td>0.000000</td>\n",
       "      <td>0.098420</td>\n",
       "      <td>1.000000</td>\n",
       "      <td>0.062688</td>\n",
       "    </tr>\n",
       "    <tr>\n",
       "      <th>246</th>\n",
       "      <td>0.011124</td>\n",
       "      <td>0.009684</td>\n",
       "      <td>0.019641</td>\n",
       "      <td>0.158206</td>\n",
       "      <td>0.010266</td>\n",
       "      <td>0.046344</td>\n",
       "      <td>0.091591</td>\n",
       "      <td>0.064821</td>\n",
       "      <td>0.010284</td>\n",
       "      <td>0.062527</td>\n",
       "      <td>...</td>\n",
       "      <td>0.060289</td>\n",
       "      <td>0.085231</td>\n",
       "      <td>0.155379</td>\n",
       "      <td>0.013155</td>\n",
       "      <td>0.000000</td>\n",
       "      <td>0.086383</td>\n",
       "      <td>0.010917</td>\n",
       "      <td>0.032618</td>\n",
       "      <td>0.062688</td>\n",
       "      <td>1.000000</td>\n",
       "    </tr>\n",
       "  </tbody>\n",
       "</table>\n",
       "<p>247 rows × 247 columns</p>\n",
       "</div>"
      ],
      "text/plain": [
       "          0         1         2         3         4         5         6    \\\n",
       "0    1.000000  0.011003  0.000000  0.010892  0.036872  0.096109  0.013048   \n",
       "1    0.011003  1.000000  0.019855  0.129645  0.159041  0.019323  0.217126   \n",
       "2    0.000000  0.019855  1.000000  0.012230  0.010525  0.096805  0.026423   \n",
       "3    0.010892  0.129645  0.012230  1.000000  0.010052  0.077405  0.087486   \n",
       "4    0.036872  0.159041  0.010525  0.010052  1.000000  0.073609  0.095324   \n",
       "..        ...       ...       ...       ...       ...       ...       ...   \n",
       "242  0.035424  0.009756  0.057596  0.036337  0.065283  0.000000  0.084938   \n",
       "243  0.195297  0.022372  0.010714  0.010689  0.011859  0.000000  0.013265   \n",
       "244  0.011888  0.119139  0.070281  0.118387  0.030785  0.000000  0.178157   \n",
       "245  0.086677  0.015627  0.038281  0.086986  0.016567  0.045070  0.033571   \n",
       "246  0.011124  0.009684  0.019641  0.158206  0.010266  0.046344  0.091591   \n",
       "\n",
       "          7         8         9    ...       237       238       239  \\\n",
       "0    0.117032  0.085912  0.183894  ...  0.244485  0.031123  0.027175   \n",
       "1    0.008440  0.041371  0.080002  ...  0.010039  0.029512  0.028553   \n",
       "2    0.104558  0.076642  0.028967  ...  0.012949  0.058460  0.014037   \n",
       "3    0.063468  0.071565  0.201630  ...  0.027011  0.042006  0.166237   \n",
       "4    0.008948  0.112626  0.108730  ...  0.010643  0.010172  0.131065   \n",
       "..        ...       ...       ...  ...       ...       ...       ...   \n",
       "242  0.075875  0.010360  0.058313  ...  0.075770  0.094456  0.032017   \n",
       "243  0.153088  0.011879  0.023385  ...  0.298856  0.018884  0.011471   \n",
       "244  0.028049  0.120766  0.094061  ...  0.018150  0.165701  0.050704   \n",
       "245  0.013771  0.080129  0.149823  ...  0.074179  0.261743  0.065871   \n",
       "246  0.064821  0.010284  0.062527  ...  0.060289  0.085231  0.155379   \n",
       "\n",
       "          240       241       242       243       244       245       246  \n",
       "0    0.014947  0.088334  0.035424  0.195297  0.011888  0.086677  0.011124  \n",
       "1    0.087772  0.018442  0.009756  0.022372  0.119139  0.015627  0.009684  \n",
       "2    0.012622  0.019822  0.057596  0.010714  0.070281  0.038281  0.019641  \n",
       "3    0.019403  0.102801  0.036337  0.010689  0.118387  0.086986  0.158206  \n",
       "4    0.290720  0.009776  0.065283  0.011859  0.030785  0.016567  0.010266  \n",
       "..        ...       ...       ...       ...       ...       ...       ...  \n",
       "242  0.051370  0.059543  1.000000  0.060398  0.035031  0.074889  0.086383  \n",
       "243  0.000000  0.534106  0.060398  1.000000  0.000000  0.000000  0.010917  \n",
       "244  0.185318  0.006199  0.035031  0.000000  1.000000  0.098420  0.032618  \n",
       "245  0.038439  0.067542  0.074889  0.000000  0.098420  1.000000  0.062688  \n",
       "246  0.013155  0.000000  0.086383  0.010917  0.032618  0.062688  1.000000  \n",
       "\n",
       "[247 rows x 247 columns]"
      ]
     },
     "execution_count": 18,
     "metadata": {},
     "output_type": "execute_result"
    }
   ],
   "source": [
    "cosine_sim1"
   ]
  },
  {
   "cell_type": "code",
   "execution_count": 19,
   "id": "f1c0dc67",
   "metadata": {},
   "outputs": [],
   "source": [
    "cosine_sim1 = cosine_sim1.drop(index=[246], columns=[246])"
   ]
  },
  {
   "cell_type": "code",
   "execution_count": 20,
   "id": "2764c1bb",
   "metadata": {},
   "outputs": [
    {
     "ename": "AttributeError",
     "evalue": "'NoneType' object has no attribute 'shape'",
     "output_type": "error",
     "traceback": [
      "\u001b[1;31m---------------------------------------------------------------------------\u001b[0m",
      "\u001b[1;31mAttributeError\u001b[0m                            Traceback (most recent call last)",
      "Cell \u001b[1;32mIn[20], line 1\u001b[0m\n\u001b[1;32m----> 1\u001b[0m \u001b[43mcosine_sim1\u001b[49m\u001b[38;5;241;43m.\u001b[39;49m\u001b[43mshape\u001b[49m\n",
      "\u001b[1;31mAttributeError\u001b[0m: 'NoneType' object has no attribute 'shape'"
     ]
    }
   ],
   "source": [
    "cosine_sim1.shape"
   ]
  },
  {
   "cell_type": "code",
   "execution_count": null,
   "id": "b4723263",
   "metadata": {},
   "outputs": [],
   "source": [
    "def recommend_properties(property_name, cosine_sim=cosine_sim1):\n",
    "    # Get the index of the property that matches the name\n",
    "    idx = df.index[df['PropertyName'] == property_name].tolist()[0]\n",
    "\n",
    "    # Get the pairwise similarity scores with that property\n",
    "    sim_scores = list(enumerate(cosine_sim1[idx]))\n",
    "\n",
    "    # Sort the properties based on the similarity scores\n",
    "    sim_scores = sorted(sim_scores, key=lambda x: x[1], reverse=True)\n",
    "\n",
    "    # Get the scores of the 10 most similar properties\n",
    "    sim_scores = sim_scores[1:6]\n",
    "\n",
    "    # Get the property indices\n",
    "    property_indices = [i[0] for i in sim_scores]\n",
    "    \n",
    "    recommendations_df = pd.DataFrame({\n",
    "        'PropertyName': df['PropertyName'].iloc[property_indices],\n",
    "        'SimilarityScore': sim_scores\n",
    "    })\n",
    "\n",
    "    return recommendations_df"
   ]
  },
  {
   "cell_type": "code",
   "execution_count": null,
   "id": "feb6fbc7",
   "metadata": {},
   "outputs": [],
   "source": [
    "recommend_properties(\"DLF The Arbour\")"
   ]
  },
  {
   "cell_type": "code",
   "execution_count": null,
   "id": "9adaab39",
   "metadata": {},
   "outputs": [],
   "source": [
    "df[['PropertyName', 'PriceDetails']]"
   ]
  },
  {
   "cell_type": "code",
   "execution_count": null,
   "id": "78bf99f0",
   "metadata": {},
   "outputs": [],
   "source": [
    "df.drop(index=[22], inplace=True)"
   ]
  },
  {
   "cell_type": "code",
   "execution_count": null,
   "id": "7a5d7ddc",
   "metadata": {},
   "outputs": [],
   "source": [
    "# Making recommendations on PriceDetails\n",
    "\n",
    "import pandas as pd\n",
    "import json\n",
    "\n",
    "# Load the dataset\n",
    "df_appartments = df.copy()\n",
    "\n",
    "# Function to parse and extract the required features from the PriceDetails column\n",
    "def refined_parse_modified_v2(detail_str):\n",
    "    try:\n",
    "        details = json.loads(detail_str.replace(\"'\", \"\\\"\"))\n",
    "    except:\n",
    "        return {}\n",
    "\n",
    "    extracted = {}\n",
    "    for bhk, detail in details.items():\n",
    "        # Extract building type\n",
    "        extracted[f'building type_{bhk}'] = detail.get('building_type')\n",
    "\n",
    "        # Parsing area details\n",
    "        area = detail.get('area', '')\n",
    "        area_parts = area.split('-')\n",
    "        if len(area_parts) == 1:\n",
    "            try:\n",
    "                value = float(area_parts[0].replace(',', '').replace(' sq.ft.', '').strip())\n",
    "                extracted[f'area low {bhk}'] = value\n",
    "                extracted[f'area high {bhk}'] = value\n",
    "            except:\n",
    "                extracted[f'area low {bhk}'] = None\n",
    "                extracted[f'area high {bhk}'] = None\n",
    "        elif len(area_parts) == 2:\n",
    "            try:\n",
    "                extracted[f'area low {bhk}'] = float(area_parts[0].replace(',', '').replace(' sq.ft.', '').strip())\n",
    "                extracted[f'area high {bhk}'] = float(area_parts[1].replace(',', '').replace(' sq.ft.', '').strip())\n",
    "            except:\n",
    "                extracted[f'area low {bhk}'] = None\n",
    "                extracted[f'area high {bhk}'] = None\n",
    "\n",
    "        # Parsing price details\n",
    "        price_range = detail.get('price-range', '')\n",
    "        price_parts = price_range.split('-')\n",
    "        if len(price_parts) == 2:\n",
    "            try:\n",
    "                extracted[f'price low {bhk}'] = float(price_parts[0].replace('₹', '').replace(' Cr', '').replace(' L', '').strip())\n",
    "                extracted[f'price high {bhk}'] = float(price_parts[1].replace('₹', '').replace(' Cr', '').replace(' L', '').strip())\n",
    "                if 'L' in price_parts[0]:\n",
    "                    extracted[f'price low {bhk}'] /= 100\n",
    "                if 'L' in price_parts[1]:\n",
    "                    extracted[f'price high {bhk}'] /= 100\n",
    "            except:\n",
    "                extracted[f'price low {bhk}'] = None\n",
    "                extracted[f'price high {bhk}'] = None\n",
    "\n",
    "    return extracted\n",
    "# Apply the refined parsing and generate the new DataFrame structure\n",
    "data_refined = []\n",
    "\n",
    "for _, row in df_appartments.iterrows():\n",
    "    features = refined_parse_modified_v2(row['PriceDetails'])\n",
    "    \n",
    "    # Construct a new row for the transformed dataframe\n",
    "    new_row = {'PropertyName': row['PropertyName']}\n",
    "    \n",
    "    # Populate the new row with extracted features\n",
    "    for config in ['1 BHK', '2 BHK', '3 BHK', '4 BHK', '5 BHK', '6 BHK', '1 RK', 'Land']:\n",
    "        new_row[f'building type_{config}'] = features.get(f'building type_{config}')\n",
    "        new_row[f'area low {config}'] = features.get(f'area low {config}')\n",
    "        new_row[f'area high {config}'] = features.get(f'area high {config}')\n",
    "        new_row[f'price low {config}'] = features.get(f'price low {config}')\n",
    "        new_row[f'price high {config}'] = features.get(f'price high {config}')\n",
    "    \n",
    "    data_refined.append(new_row)\n",
    "\n",
    "df_final_refined_v2 = pd.DataFrame(data_refined).set_index('PropertyName')"
   ]
  },
  {
   "cell_type": "code",
   "execution_count": null,
   "id": "ccc3550f",
   "metadata": {},
   "outputs": [],
   "source": [
    "df_final_refined_v2['building type_Land'] = df_final_refined_v2['building type_Land'].replace({'':'Land'})"
   ]
  },
  {
   "cell_type": "code",
   "execution_count": null,
   "id": "8d5956af",
   "metadata": {},
   "outputs": [],
   "source": [
    "df['PriceDetails'][10]"
   ]
  },
  {
   "cell_type": "code",
   "execution_count": null,
   "id": "fe422c86",
   "metadata": {
    "scrolled": false
   },
   "outputs": [],
   "source": [
    "df_final_refined_v2.iloc[10]"
   ]
  },
  {
   "cell_type": "code",
   "execution_count": null,
   "id": "3124b81f",
   "metadata": {},
   "outputs": [],
   "source": [
    "categorical_columns = df_final_refined_v2.select_dtypes(include=['object']).columns.tolist()"
   ]
  },
  {
   "cell_type": "code",
   "execution_count": null,
   "id": "9d39cab1",
   "metadata": {},
   "outputs": [],
   "source": [
    "categorical_columns"
   ]
  },
  {
   "cell_type": "code",
   "execution_count": null,
   "id": "f2d97079",
   "metadata": {},
   "outputs": [],
   "source": [
    "ohe_df = pd.get_dummies(df_final_refined_v2, columns=categorical_columns, drop_first=True)"
   ]
  },
  {
   "cell_type": "code",
   "execution_count": null,
   "id": "ac42141f",
   "metadata": {},
   "outputs": [],
   "source": [
    "ohe_df"
   ]
  },
  {
   "cell_type": "code",
   "execution_count": null,
   "id": "0faa1da5",
   "metadata": {},
   "outputs": [],
   "source": [
    "ohe_df.fillna(0, inplace=True)"
   ]
  },
  {
   "cell_type": "code",
   "execution_count": null,
   "id": "a5742f3d",
   "metadata": {},
   "outputs": [],
   "source": [
    "from sklearn.preprocessing import StandardScaler\n",
    "\n",
    "# Initialize the scaler\n",
    "scaler = StandardScaler()\n",
    "\n",
    "# Apply the scaler to the entire dataframe\n",
    "ohe_df_normalized = pd.DataFrame(scaler.fit_transform(ohe_df), columns=ohe_df.columns, index=ohe_df.index)"
   ]
  },
  {
   "cell_type": "code",
   "execution_count": null,
   "id": "9ea8793f",
   "metadata": {},
   "outputs": [],
   "source": [
    "ohe_df_normalized.head()"
   ]
  },
  {
   "cell_type": "code",
   "execution_count": null,
   "id": "851135db",
   "metadata": {},
   "outputs": [],
   "source": [
    "# Compute the cosine similarity matrix\n",
    "cosine_sim2 = cosine_similarity(ohe_df_normalized)"
   ]
  },
  {
   "cell_type": "code",
   "execution_count": null,
   "id": "dd7f8a60",
   "metadata": {},
   "outputs": [],
   "source": [
    "cosine_sim2.shape"
   ]
  },
  {
   "cell_type": "code",
   "execution_count": null,
   "id": "b54b39eb",
   "metadata": {},
   "outputs": [],
   "source": [
    "def recommend_properties_with_scores(property_name, top_n=247):\n",
    "    \n",
    "    # Get the similarity scores for the property using its name as the index\n",
    "    sim_scores = list(enumerate(cosine_sim2[ohe_df_normalized.index.get_loc(property_name)]))\n",
    "    \n",
    "    # Sort properties based on the similarity scores\n",
    "    sorted_scores = sorted(sim_scores, key=lambda x: x[1], reverse=True)\n",
    "    \n",
    "    # Get the indices and scores of the top_n most similar properties\n",
    "    top_indices = [i[0] for i in sorted_scores[1:top_n+1]]\n",
    "    top_scores = [i[1] for i in sorted_scores[1:top_n+1]]\n",
    "    \n",
    "    # Retrieve the names of the top properties using the indices\n",
    "    top_properties = ohe_df_normalized.index[top_indices].tolist()\n",
    "    \n",
    "\n",
    "    recommendations_df = pd.DataFrame({\n",
    "        'PropertyName': top_properties,\n",
    "        'SimilarityScore': top_scores\n",
    "    })\n",
    "    \n",
    "    return recommendations_df\n",
    "\n",
    "\n",
    "recommend_properties_with_scores('M3M Golf Hills')"
   ]
  },
  {
   "cell_type": "code",
   "execution_count": null,
   "id": "f2a97d95",
   "metadata": {},
   "outputs": [],
   "source": [
    "def distance_to_meters(distance_str):\n",
    "    try:\n",
    "        if 'Km' in distance_str or 'KM' in distance_str:\n",
    "            return float(distance_str.split()[0]) * 1000\n",
    "        elif 'Meter' in distance_str or 'meter' in distance_str:\n",
    "            return float(distance_str.split()[0])\n",
    "        else:\n",
    "            return None\n",
    "    except:\n",
    "        return None"
   ]
  },
  {
   "cell_type": "code",
   "execution_count": null,
   "id": "1598ca33",
   "metadata": {},
   "outputs": [],
   "source": [
    "import ast\n",
    "# Extract distances for each location\n",
    "\n",
    "location_matrix = {}\n",
    "for index, row in df.iterrows():\n",
    "    distances = {}\n",
    "    for location, distance in ast.literal_eval(row['LocationAdvantages']).items():\n",
    "        distances[location] = distance_to_meters(distance)\n",
    "    location_matrix[index] = distances\n",
    "\n",
    "# Convert the dictionary to a dataframe\n",
    "location_df = pd.DataFrame.from_dict(location_matrix, orient='index')\n",
    "\n",
    "# Display the first few rows\n",
    "location_df.head()"
   ]
  },
  {
   "cell_type": "code",
   "execution_count": null,
   "id": "8372250f",
   "metadata": {},
   "outputs": [],
   "source": [
    "location_df.columns[10:50]"
   ]
  },
  {
   "cell_type": "code",
   "execution_count": null,
   "id": "9bfa412e",
   "metadata": {},
   "outputs": [],
   "source": [
    "location_df.index = df.PropertyName"
   ]
  },
  {
   "cell_type": "code",
   "execution_count": null,
   "id": "1a91ea59",
   "metadata": {},
   "outputs": [],
   "source": [
    "location_df.head()"
   ]
  },
  {
   "cell_type": "code",
   "execution_count": null,
   "id": "d271b7d0",
   "metadata": {},
   "outputs": [],
   "source": [
    "location_df.fillna(54000, inplace=True)"
   ]
  },
  {
   "cell_type": "code",
   "execution_count": null,
   "id": "19a41a8e",
   "metadata": {},
   "outputs": [],
   "source": [
    "location_df"
   ]
  },
  {
   "cell_type": "code",
   "execution_count": null,
   "id": "dca8dee8",
   "metadata": {},
   "outputs": [],
   "source": [
    "# Initialize the scaler\n",
    "scaler = StandardScaler()\n",
    "\n",
    "# Apply the scaler to the entire dataframe\n",
    "location_df_normalized = pd.DataFrame(scaler.fit_transform(location_df), columns=location_df.columns, index=location_df.index)"
   ]
  },
  {
   "cell_type": "code",
   "execution_count": null,
   "id": "16fc9a52",
   "metadata": {},
   "outputs": [],
   "source": [
    "location_df_normalized"
   ]
  },
  {
   "cell_type": "code",
   "execution_count": null,
   "id": "702a105d",
   "metadata": {},
   "outputs": [],
   "source": [
    "cosine_sim3 = cosine_similarity(location_df_normalized)"
   ]
  },
  {
   "cell_type": "code",
   "execution_count": null,
   "id": "59ba32ed",
   "metadata": {},
   "outputs": [],
   "source": [
    "def recommend_properties_with_scores(property_name, top_n=246):\n",
    "    \n",
    "    cosine_sim_matrix = 30*cosine_sim1 + 20*cosine_sim2 + 8*cosine_sim3\n",
    "    # cosine_sim_matrix = cosine_sim3\n",
    "    \n",
    "    # Get the similarity scores for the property using its name as the index\n",
    "    sim_scores = list(enumerate(cosine_sim_matrix[location_df_normalized.index.get_loc(property_name)]))\n",
    "    \n",
    "    # Sort properties based on the similarity scores\n",
    "    sorted_scores = sorted(sim_scores, key=lambda x: x[1], reverse=True)\n",
    "    \n",
    "    # Get the indices and scores of the top_n most similar properties\n",
    "    top_indices = [i[0] for i in sorted_scores[1:top_n+1]]\n",
    "    top_scores = [i[1] for i in sorted_scores[1:top_n+1]]\n",
    "    \n",
    "    # Retrieve the names of the top properties using the indices\n",
    "    top_properties = location_df_normalized.index[top_indices].tolist()\n",
    "    \n",
    "    # Create a dataframe with the results\n",
    "    recommendations_df = pd.DataFrame({\n",
    "        'PropertyName': top_properties,\n",
    "        'SimilarityScore': top_scores\n",
    "    })\n",
    "    \n",
    "    return recommendations_df\n",
    "\n",
    "# Test the recommender function using a property name\n",
    "recommend_properties_with_scores('Ireo Victory Valley')"
   ]
  },
  {
   "cell_type": "code",
   "execution_count": null,
   "id": "8ea9f834",
   "metadata": {},
   "outputs": [],
   "source": []
  }
 ],
 "metadata": {
  "kernelspec": {
   "display_name": "Python 3 (ipykernel)",
   "language": "python",
   "name": "python3"
  },
  "language_info": {
   "codemirror_mode": {
    "name": "ipython",
    "version": 3
   },
   "file_extension": ".py",
   "mimetype": "text/x-python",
   "name": "python",
   "nbconvert_exporter": "python",
   "pygments_lexer": "ipython3",
   "version": "3.9.16"
  }
 },
 "nbformat": 4,
 "nbformat_minor": 5
}
